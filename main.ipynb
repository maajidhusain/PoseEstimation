{
 "cells": [
  {
   "cell_type": "markdown",
   "metadata": {},
   "source": [
    "# First Pose Estimation Project\n",
    " Creating an algorithm using open source [OpenPose library](https://github.com/CMU-Perceptual-Computing-Lab/openpose)\n",
    "\n",
    "## Importing needed packages \n",
    "- OpenCV as ```cv2```\n",
    "- Numpy as ```np```\n",
    "- Pandas as ```pd```\n"
   ]
  },
  {
   "cell_type": "code",
   "execution_count": 3,
   "metadata": {
    "pycharm": {
     "name": "#%%\n"
    }
   },
   "outputs": [],
   "source": [
    "import sys\n",
    "import cv2\n",
    "import os\n",
    "from sys import platform\n",
    "import argparse\n",
    "import numpy as np\n",
    "#import pytesseract"
   ]
  },
  {
   "cell_type": "markdown",
   "metadata": {},
   "source": [
    "### Neural Network trained on the Coco dataset:\n",
    "**Given keypoints from Coco dataset**\n",
    "\n",
    "| Keypoints      | Numbering using by Coco Dataset |\n",
    "| -----------    | -----------                     |\n",
    "| Nose           | 0                               |\n",
    "| Neck           | 1                               |\n",
    "| Right Shoulder | 2                               |\n",
    "| Right Elbow    | 3                               |\n",
    "| Right Wrist    | 4                               |\n",
    "| Left Shoulder  | 5                               |\n",
    "| Left Elbow     | 6                               |\n",
    "| Left Wrist     | 7                               |\n",
    "| Right Hip      | 8                               |\n",
    "| Right Knee     | 9                               |\n",
    "| Right Ankle    | 10                              |\n",
    "| Left Hip       | 11                              |\n",
    "| Left Knee      | 12                              |\n",
    "| Left Ankle     | 13                              |\n",
    "| Right Eye      | 14                              |\n",
    "| Left Eye       | 15                              |\n",
    "| Right Ear      | 16                              |\n",
    "| Left Ear       | 17                              |\n",
    "| Background     | 18                              |"
   ]
  },
  {
   "cell_type": "code",
   "execution_count": 4,
   "metadata": {},
   "outputs": [],
   "source": [
    "BODY_PARTS = {  \"Nose\": 0, \"Neck\": 1, \"RShoulder\": 2, \"RElbow\": 3, \"RWrist\": 4, \"LShoulder\": 5, \"LElbow\": 6, \n",
    "                \"LWrist\": 7, \"RHip\": 8, \"RKnee\": 9, \"RAnkle\": 10, \"LHip\": 11, \"LKnee\": 12, \"LAnkle\": 13, \n",
    "                \"REye\": 14, \"LEye\": 15, \"REar\": 16, \"LEar\": 17, \"Background\": 18}\n",
    "\n",
    "POSE_PAIRS = [  [\"Neck\", \"RShoulder\"], [\"Neck\", \"LShoulder\"], [\"RShoulder\", \"RElbow\"], [\"RElbow\", \"RWrist\"],\n",
    "                [\"LShoulder\", \"LElbow\"], [\"LElbow\", \"LWrist\"], [\"Neck\", \"RHip\"], [\"RHip, RKnee\"], [\"RKnee\", \"RAnkle\"],\n",
    "                [\"Neck\", \"LHip\"], [\"LHip\", \"LKnee\"], [\"LKnee\", \"LAnkle\"], [\"Neck\", \"Nose\"], [\"Nose\", \"REye\"],\n",
    "                [\"REye\", \"REar\"], [\"Nose\", \"LEye\"], [\"LEye\", \"LEar\"]]"
   ]
  },
  {
   "cell_type": "code",
   "execution_count": 5,
   "metadata": {
    "pycharm": {
     "name": "#%%\n"
    }
   },
   "outputs": [],
   "source": [
    "protoFile = \"/Users/Maajid/openpose/input/pose_deploy_linevec_faster_4_stages.prototxt\"\n",
    "weightsFile = \"/Users/Maajid/openpose/input/pose_iter_160000.caffemodel\"\n",
    "# Read the network into Memory\n",
    "net = cv2.dnn.readNetFromCaffe(protoFile, weightsFile)\n",
    "threshold = 0.2"
   ]
  },
  {
   "cell_type": "markdown",
   "metadata": {},
   "source": [
    "## Run the following cell to generate pose estimation on an image\n",
    "- for a video please run the cell following the next\n"
   ]
  },
  {
   "cell_type": "code",
   "execution_count": 6,
   "metadata": {},
   "outputs": [
    {
     "name": "stdout",
     "output_type": "stream",
     "text": [
      "19\n",
      "44\n"
     ]
    }
   ],
   "source": [
    "# TODO make this a function so that image size and width can be modulated\n",
    "# Read image\n",
    "frame = cv2.imread(\"PoseVideos/img1.JPG\", cv2.IMREAD_UNCHANGED)\n",
    "\n",
    "# Specify the input image dimensions\n",
    "inWidth = 400\n",
    "inHeight = 400\n",
    "\n",
    "#imput frame len + width\n",
    "photo_height = frame.shape[0]\n",
    "photo_width = frame.shape[1]\n",
    "\n",
    "#cv2.imshow(\"frame\", frame)\n",
    "# Prepare the frame to be fed to the network\n",
    "inpBlob = cv2.dnn.blobFromImage(\n",
    "\tframe, 1.0 / 255, (inWidth, inHeight), (0, 0, 0), swapRB=False, crop=False)\n",
    "\n",
    "# Set the prepared object as the input blob of the network\n",
    "net.setInput(inpBlob)\n",
    "\n",
    "output = net.forward()\n",
    "#see what the size means is for 1,44,50,50 --> what is it outputting\n",
    "print(len(BODY_PARTS))\n",
    "print(output.shape[1])\n"
   ]
  },
  {
   "cell_type": "code",
   "execution_count": 16,
   "metadata": {},
   "outputs": [
    {
     "ename": "AttributeError",
     "evalue": "'tuple' object has no attribute 'append'",
     "output_type": "error",
     "traceback": [
      "\u001b[0;31m---------------------------------------------------------------------------\u001b[0m",
      "\u001b[0;31mAttributeError\u001b[0m                            Traceback (most recent call last)",
      "Cell \u001b[0;32mIn [16], line 11\u001b[0m\n\u001b[1;32m      9\u001b[0m     y \u001b[38;5;241m=\u001b[39m (photo_height \u001b[38;5;241m*\u001b[39m points[\u001b[38;5;241m1\u001b[39m] \u001b[38;5;241m/\u001b[39m output\u001b[38;5;241m.\u001b[39mshape[\u001b[38;5;241m2\u001b[39m])\n\u001b[1;32m     10\u001b[0m     \u001b[38;5;28mlist\u001b[39m(points)\n\u001b[0;32m---> 11\u001b[0m     \u001b[43mpoints\u001b[49m\u001b[38;5;241;43m.\u001b[39;49m\u001b[43mappend\u001b[49m((\u001b[38;5;28mint\u001b[39m(x), \u001b[38;5;28mint\u001b[39m(y)) \u001b[38;5;28;01mif\u001b[39;00m conf \u001b[38;5;241m>\u001b[39m threshold \u001b[38;5;28;01melse\u001b[39;00m \u001b[38;5;28;01mNone\u001b[39;00m)\n\u001b[1;32m     13\u001b[0m \u001b[38;5;28;01mfor\u001b[39;00m pair \u001b[38;5;129;01min\u001b[39;00m POSE_PAIRS:\n\u001b[1;32m     14\u001b[0m     partFrom \u001b[38;5;241m=\u001b[39m pair[\u001b[38;5;241m0\u001b[39m]\n",
      "\u001b[0;31mAttributeError\u001b[0m: 'tuple' object has no attribute 'append'"
     ]
    }
   ],
   "source": [
    "#assert(len(BODY_PARTS) == output.shape[1])\n",
    "points = [(None, None)]\n",
    "\n",
    "for i in range(len(BODY_PARTS)):\n",
    "    #slice heatmap of correspoinding body's part\n",
    "    heatMap = output[0, i, :, :]\n",
    "    _, conf, _, points = cv2.minMaxLoc(heatMap)\n",
    "    x = (photo_width * points[0] / output.shape[3])\n",
    "    y = (photo_height * points[1] / output.shape[2])\n",
    "    list(points)\n",
    "    points.append((int(x), int(y)) if conf > threshold else None)\n",
    "\n",
    "for pair in POSE_PAIRS:\n",
    "    partFrom = pair[0]\n",
    "    partTo = pair[1]\n",
    "    assert(partFrom in BODY_PARTS)\n",
    "    assert(partTo in BODY_PARTS)\n",
    "\n",
    "    idFrom = BODY_PARTS[partFrom]\n",
    "    idTo = BODY_PARTS[partTo]\n",
    "\n",
    "    if points[idFrom] and points[idTo]:\n",
    "        cv2.line(frame, points[idFrom], points[idTo], (0, 255, 0), 3)\n",
    "        cv2.ellipse(frame, points[idFrom], (3,3), 0, 0, 360, (0, 0, 255), cv2.FILLED)\n",
    "        cv2.ellipse(frame, points[idTo], (3,3), 0, 0, 360, (0, 0, 255), cv2.FILLED)\n",
    "\n",
    "t, _ = net.getPerfProfile()\n",
    "cv2.imshow(\"Output\", frame)\n",
    "cv2.waitKey(0)\n",
    "cv2.destroyAllWindows()\n"
   ]
  },
  {
   "cell_type": "markdown",
   "metadata": {},
   "source": [
    "### Running algorithm on Video file\n",
    "- implements same logic as an image input, but goes through a while-loop"
   ]
  },
  {
   "cell_type": "code",
   "execution_count": null,
   "metadata": {},
   "outputs": [],
   "source": [
    "cap = cv2.VideoCapture(0)\n",
    "length = int(cap.get(cv2.CAP_PROP_FRAME_COUNT))\n",
    "count = 0\n",
    "index = 0\n",
    "whole_body_coordinates = {}\n",
    "for x in range(15):\n",
    "    whole_body_coordinates[x] = []\n",
    "while (cap.isOpened()):\n",
    "    ret, frame = cap.read()\n",
    "    "
   ]
  },
  {
   "cell_type": "markdown",
   "metadata": {},
   "source": [
    "## Generating an output\n",
    "- Draws over the image and allows for a visualization of the keypoints and the lines that connect the keypoints together"
   ]
  },
  {
   "cell_type": "code",
   "execution_count": 8,
   "metadata": {},
   "outputs": [
    {
     "data": {
      "text/plain": [
       "'\\nH = output.putshape[2]\\nW = output.shape[3]\\n# Empty list to store the detected keypoints\\npoints = []\\nfor i in range(len()):\\n\\t# confidence map of corresponding body\\'s part.\\n\\tprobMap = output[0, i, :, :]\\n\\n\\t# Find global maxima of the probMap.\\n\\tminVal, prob, minLoc, point = cv2.minMaxLoc(probMap)\\n\\n\\t# Scale the point to fit on the original image\\n\\t\\n\\tToDo: whatever characteristic of my image\\n\\n\\tx = (inWidth * point[0]) / W\\n\\ty = (inHeight * point[1]) / H\\n\\n\\tif prob > 0.5: #how confident i want the predictions to be -- a\\n\\t\\tcv2.circle(frame, (int(x), int(y)), 15, (0, 255, 255),\\n\\t\\t\\t\\tthickness=-1, lineType=cv.FILLED)\\n\\t\\tcv2.putText(frame, \"{}\".format(i), (int(x), int(\\n\\t\\t\\ty)), cv2.FONT_HERSHEY_SIMPLEX, 1.4, (0, 0, 255), 3, lineType=cv2.LINE_AA)\\n\\n\\t\\t# Add the point to the list if the probability is greater than the threshold\\n\\t\\tpoints.append((int(x), int(y)))\\n\\telse:\\n\\t\\tpoints.append(None)\\n\\n#cv2.imshow(\"Output-Keypoints\", frame)\\n#cv2.waitKey(0)\\n#cv2.destroyAllWindows()\\n\\nfor pair in POSE_PAIRS:\\n\\tpartA = pair[0]\\n\\tpartB = pair[1]\\n\\n\\tif points[partA] and points[partB]:\\n\\t\\tcv2.line(frameCopy, points[partA], points[partB], (0, 255, 0), 3)\\n'"
      ]
     },
     "execution_count": 8,
     "metadata": {},
     "output_type": "execute_result"
    }
   ],
   "source": [
    "\n",
    "H = output.putshape[2]\n",
    "W = output.shape[3]\n",
    "# Empty list to store the detected keypoints\n",
    "points = []\n",
    "for i in range(len()):\n",
    "\t# confidence map of corresponding body's part.\n",
    "\tprobMap = output[0, i, :, :]\n",
    "\n",
    "\t# Find global maxima of the probMap.\n",
    "\tminVal, prob, minLoc, point = cv2.minMaxLoc(probMap)\n",
    "\n",
    "\t# Scale the point to fit on the original image\n",
    "\t\n",
    "\t# ToDo: whatever characteristic of my image\n",
    "\n",
    "\tx = (inWidth * point[0]) / W\n",
    "\ty = (inHeight * point[1]) / H\n",
    "\n",
    "\tif prob > 0.5: #how confident i want the predictions to be -- a\n",
    "\t\tcv2.circle(frame, (int(x), int(y)), 15, (0, 255, 255),\n",
    "\t\t\t\tthickness=-1, lineType=cv.FILLED)\n",
    "\t\tcv2.putText(frame, \"{}\".format(i), (int(x), int(\n",
    "\t\t\ty)), cv2.FONT_HERSHEY_SIMPLEX, 1.4, (0, 0, 255), 3, lineType=cv2.LINE_AA)\n",
    "\n",
    "\t\t# Add the point to the list if the probability is greater than the threshold\n",
    "\t\tpoints.append((int(x), int(y)))\n",
    "\telse:\n",
    "\t\tpoints.append(None)\n",
    "\n",
    "cv2.imshow(\"Output-Keypoints\", frame)\n",
    "cv2.waitKey(0)\n",
    "cv2.destroyAllWindows()\n",
    "\n",
    "for pair in POSE_PAIRS:\n",
    "\tpartA = pair[0]\n",
    "\tpartB = pair[1]\n",
    "\n",
    "\tif points[partA] and points[partB]:\n",
    "\t\tcv2.line(frame, points[partA], points[partB], (0, 255, 0), 3)\n"
   ]
  },
  {
   "cell_type": "code",
   "execution_count": 4,
   "metadata": {},
   "outputs": [
    {
     "name": "stdout",
     "output_type": "stream",
     "text": [
      "11.0\n"
     ]
    }
   ],
   "source": [
    "onesDigit = 29 % 10\n",
    "tensDigit = (29 - onesDigit) / 10\n",
    "print(onesDigit + tensDigit)"
   ]
  }
 ],
 "metadata": {
  "kernelspec": {
   "display_name": "Python 3.10.6 64-bit",
   "language": "python",
   "name": "python3"
  },
  "language_info": {
   "codemirror_mode": {
    "name": "ipython",
    "version": 3
   },
   "file_extension": ".py",
   "mimetype": "text/x-python",
   "name": "python",
   "nbconvert_exporter": "python",
   "pygments_lexer": "ipython3",
   "version": "3.10.6"
  },
  "vscode": {
   "interpreter": {
    "hash": "aee8b7b246df8f9039afb4144a1f6fd8d2ca17a180786b69acc140d282b71a49"
   }
  }
 },
 "nbformat": 4,
 "nbformat_minor": 4
}
