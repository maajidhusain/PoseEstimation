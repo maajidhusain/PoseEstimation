{
 "cells": [
  {
   "cell_type": "markdown",
   "metadata": {},
   "source": [
    "# First Pose Estimation Project\n",
    " Creating an algorithm using open source [OpenPose library](https://github.com/CMU-Perceptual-Computing-Lab/openpose)\n",
    "\n",
    "## Importing needed packages \n",
    "- OpenCV as ```cv2```\n",
    "- Numpy as ```np```\n",
    "- Pandas as ```pd```\n"
   ]
  },
  {
   "cell_type": "code",
   "execution_count": 2,
   "metadata": {
    "pycharm": {
     "name": "#%%\n"
    }
   },
   "outputs": [],
   "source": [
    "import sys\n",
    "import cv2\n",
    "import os\n",
    "from sys import platform\n",
    "import argparse\n",
    "import numpy as np"
   ]
  },
  {
   "cell_type": "markdown",
   "metadata": {},
   "source": [
    "### Neural Network trained on the Coco dataset:\n",
    "**Given keypoints from Coco dataset**\n",
    "\n",
    "| Keypoints      | Numbering using by Coco Dataset |\n",
    "| -----------    | -----------                     |\n",
    "| Nose           | 0                               |\n",
    "| Neck           | 1                               |\n",
    "| Right Shoulder | 2                               |\n",
    "| Right Elbow    | 3                               |\n",
    "| Right Wrist    | 4                               |\n",
    "| Left Shoulder  | 5                               |\n",
    "| Left Elbow     | 6                               |\n",
    "| Left Wrist     | 7                               |\n",
    "| Right Hip      | 8                               |\n",
    "| Right Knee     | 9                               |\n",
    "| Right Ankle    | 10                              |\n",
    "| Left Hip       | 11                              |\n",
    "| Left Knee      | 12                              |\n",
    "| Left Ankle     | 13                              |\n",
    "| Right Eye      | 14                              |\n",
    "| Left Eye       | 15                              |\n",
    "| Right Ear      | 16                              |\n",
    "| Left Ear       | 17                              |\n",
    "| Background     | 18                              |"
   ]
  },
  {
   "cell_type": "code",
   "execution_count": 6,
   "metadata": {
    "pycharm": {
     "name": "#%%\n"
    }
   },
   "outputs": [],
   "source": [
    "protoFile = \"/Users/Maajid/openpose/input/pose_deploy_linevec_faster_4_stages.prototxt\"\n",
    "weightsFile = \"/Users/Maajid/openpose/input/pose_iter_160000.caffemodel\"\n",
    "# Read the network into Memory\n",
    "net = cv2.dnn.readNetFromCaffe(protoFile, weightsFile)"
   ]
  },
  {
   "cell_type": "code",
   "execution_count": 7,
   "metadata": {},
   "outputs": [],
   "source": [
    "# Read image\n",
    "frame = cv2.imread(\"PoseVideos/img1.JPG\")\n",
    "\n",
    "# Specify the input image dimensions\n",
    "inWidth = 400\n",
    "inHeight = 400\n",
    "\n",
    "#cv2.imshow(\"frame\", frame)\n",
    "# Prepare the frame to be fed to the network\n",
    "inpBlob = cv2.dnn.blobFromImage(\n",
    "\tframe, 1.0 / 255, (inWidth, inHeight), (0, 0, 0), swapRB=False, crop=False)\n",
    "\n",
    "# Set the prepared object as the input blob of the network\n",
    "net.setInput(inpBlob)\n",
    "\n",
    "output = net.forward()\n",
    "#see what the size means is for 1,44,50,50 --> what is it outputting\n"
   ]
  },
  {
   "cell_type": "code",
   "execution_count": 8,
   "metadata": {},
   "outputs": [
    {
     "data": {
      "text/plain": [
       "'\\nH = output.putshape[2]\\nW = output.shape[3]\\n# Empty list to store the detected keypoints\\npoints = []\\nfor i in range(len()):\\n\\t# confidence map of corresponding body\\'s part.\\n\\tprobMap = output[0, i, :, :]\\n\\n\\t# Find global maxima of the probMap.\\n\\tminVal, prob, minLoc, point = cv2.minMaxLoc(probMap)\\n\\n\\t# Scale the point to fit on the original image\\n\\t\\n\\tToDo: whatever characteristic of my image\\n\\n\\tx = (inWidth * point[0]) / W\\n\\ty = (inHeight * point[1]) / H\\n\\n\\tif prob > 0.5: #how confident i want the predictions to be -- a\\n\\t\\tcv2.circle(frame, (int(x), int(y)), 15, (0, 255, 255),\\n\\t\\t\\t\\tthickness=-1, lineType=cv.FILLED)\\n\\t\\tcv2.putText(frame, \"{}\".format(i), (int(x), int(\\n\\t\\t\\ty)), cv2.FONT_HERSHEY_SIMPLEX, 1.4, (0, 0, 255), 3, lineType=cv2.LINE_AA)\\n\\n\\t\\t# Add the point to the list if the probability is greater than the threshold\\n\\t\\tpoints.append((int(x), int(y)))\\n\\telse:\\n\\t\\tpoints.append(None)\\n\\n#cv2.imshow(\"Output-Keypoints\", frame)\\n#cv2.waitKey(0)\\n#cv2.destroyAllWindows()\\n\\nfor pair in POSE_PAIRS:\\n\\tpartA = pair[0]\\n\\tpartB = pair[1]\\n\\n\\tif points[partA] and points[partB]:\\n\\t\\tcv2.line(frameCopy, points[partA], points[partB], (0, 255, 0), 3)\\n'"
      ]
     },
     "execution_count": 8,
     "metadata": {},
     "output_type": "execute_result"
    }
   ],
   "source": [
    "\n",
    "\n",
    "\"\"\"\n",
    "H = output.putshape[2]\n",
    "W = output.shape[3]\n",
    "# Empty list to store the detected keypoints\n",
    "points = []\n",
    "for i in range(len()):\n",
    "\t# confidence map of corresponding body's part.\n",
    "\tprobMap = output[0, i, :, :]\n",
    "\n",
    "\t# Find global maxima of the probMap.\n",
    "\tminVal, prob, minLoc, point = cv2.minMaxLoc(probMap)\n",
    "\n",
    "\t# Scale the point to fit on the original image\n",
    "\t\n",
    "\tToDo: whatever characteristic of my image\n",
    "\n",
    "\tx = (inWidth * point[0]) / W\n",
    "\ty = (inHeight * point[1]) / H\n",
    "\n",
    "\tif prob > 0.5: #how confident i want the predictions to be -- a\n",
    "\t\tcv2.circle(frame, (int(x), int(y)), 15, (0, 255, 255),\n",
    "\t\t\t\tthickness=-1, lineType=cv.FILLED)\n",
    "\t\tcv2.putText(frame, \"{}\".format(i), (int(x), int(\n",
    "\t\t\ty)), cv2.FONT_HERSHEY_SIMPLEX, 1.4, (0, 0, 255), 3, lineType=cv2.LINE_AA)\n",
    "\n",
    "\t\t# Add the point to the list if the probability is greater than the threshold\n",
    "\t\tpoints.append((int(x), int(y)))\n",
    "\telse:\n",
    "\t\tpoints.append(None)\n",
    "\n",
    "#cv2.imshow(\"Output-Keypoints\", frame)\n",
    "#cv2.waitKey(0)\n",
    "#cv2.destroyAllWindows()\n",
    "\n",
    "for pair in POSE_PAIRS:\n",
    "\tpartA = pair[0]\n",
    "\tpartB = pair[1]\n",
    "\n",
    "\tif points[partA] and points[partB]:\n",
    "\t\tcv2.line(frameCopy, points[partA], points[partB], (0, 255, 0), 3)\n",
    "\"\"\""
   ]
  }
 ],
 "metadata": {
  "kernelspec": {
   "display_name": "Python 3.10.6 64-bit",
   "language": "python",
   "name": "python3"
  },
  "language_info": {
   "codemirror_mode": {
    "name": "ipython",
    "version": 3
   },
   "file_extension": ".py",
   "mimetype": "text/x-python",
   "name": "python",
   "nbconvert_exporter": "python",
   "pygments_lexer": "ipython3",
   "version": "3.10.6"
  },
  "vscode": {
   "interpreter": {
    "hash": "aee8b7b246df8f9039afb4144a1f6fd8d2ca17a180786b69acc140d282b71a49"
   }
  }
 },
 "nbformat": 4,
 "nbformat_minor": 4
}
